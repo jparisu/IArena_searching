{
 "cells": [
  {
   "cell_type": "markdown",
   "metadata": {},
   "source": [
    "# MEASURE AN ALGORITHM'S PERFORMANCE\n",
    "\n",
    "This notebook is a template to measure the performance of a search algorithm. \n",
    "It creates a random problem instance and measures the distance of the path found and the time it took to find it."
   ]
  },
  {
   "cell_type": "code",
   "execution_count": null,
   "metadata": {},
   "outputs": [],
   "source": [
    "# GENERATING TERRAIN\n",
    "\n",
    "from sIArena.terrain.plot.plot_2D import plot_terrain_2D\n",
    "from sIArena.terrain.plot.plot_3D import plot_terrain_3D\n",
    "from sIArena.terrain.generator.PernilGenerator import PernilGenerator\n",
    "\n",
    "N = 50\n",
    "M = 50\n",
    "MIN_HEIGHT = 0\n",
    "MAX_HEIGHT = 20\n",
    "MIN_STEP = 1\n",
    "ABR = 0.1\n",
    "SEED = 0\n",
    "ORIGIN = None\n",
    "DESTINATION = None\n",
    "\n",
    "terrain = PernilGenerator().generate_random_terrain(\n",
    "    n=N,\n",
    "    m=M,\n",
    "    min_height=MIN_HEIGHT,\n",
    "    max_height=MAX_HEIGHT,\n",
    "    min_step=MIN_STEP,\n",
    "    abruptness=ABR,\n",
    "    seed=SEED,\n",
    "    origin=ORIGIN,\n",
    "    destination=DESTINATION)\n",
    "\n",
    "# Showing terrain\n",
    "plot_terrain_2D(terrain)\n",
    "plot_terrain_3D(terrain)"
   ]
  },
  {
   "cell_type": "code",
   "execution_count": null,
   "metadata": {},
   "outputs": [],
   "source": [
    "# SEARCHING ALGORITHM\n",
    "\n",
    "from sIArena.terrain.Terrain import Coordinate, Terrain, Path\n",
    "\n",
    "def searching_algorithm(terrain: Terrain) -> Path:\n",
    "    # Do stuff and return a path\n",
    "    pass"
   ]
  },
  {
   "cell_type": "code",
   "execution_count": null,
   "metadata": {},
   "outputs": [],
   "source": [
    "# MEASURING ALGORITHM\n",
    "\n",
    "from sIArena.measurements.measurements import measure_function\n",
    "\n",
    "min_cost, seconds, path = measure_function(searching_algorithm, terrain, iterations=1, debug=False)\n",
    "\n",
    "print(f\"Algorithm took {seconds} seconds to find a path with cost {min_cost}\")\n",
    "plot_terrain_2D(terrain, [path])\n",
    "plot_terrain_3D(terrain, [path])"
   ]
  }
 ],
 "metadata": {
  "kernelspec": {
   "display_name": "Python 3",
   "language": "python",
   "name": "python3"
  },
  "language_info": {
   "codemirror_mode": {
    "name": "ipython",
    "version": 3
   },
   "file_extension": ".py",
   "mimetype": "text/x-python",
   "name": "python",
   "nbconvert_exporter": "python",
   "pygments_lexer": "ipython3",
   "version": "3.10.12"
  }
 },
 "nbformat": 4,
 "nbformat_minor": 2
}
